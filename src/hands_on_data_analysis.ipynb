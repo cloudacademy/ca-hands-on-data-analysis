{
 "cells": [
  {
   "cell_type": "markdown",
   "metadata": {
    "hideCode": false,
    "hidePrompt": false
   },
   "source": [
    "# Introduction to Financial Data Manipulation with Python\n",
    "## Author: Andrea Giussani\n",
    "### Company: Cloud Academy"
   ]
  },
  {
   "cell_type": "markdown",
   "metadata": {
    "hideCode": false,
    "hidePrompt": false
   },
   "source": [
    "## Section 1: Dataset Creation"
   ]
  },
  {
   "cell_type": "markdown",
   "metadata": {
    "hideCode": false,
    "hidePrompt": false
   },
   "source": [
    "### 1.1 Data Reader"
   ]
  },
  {
   "cell_type": "markdown",
   "metadata": {
    "hideCode": false,
    "hidePrompt": false
   },
   "source": [
    "In this Section, we are going to cover the fundamentals concepts that are necessary to start out our analysis.\n",
    "The data we wish to investigate are related to three stocks quoted in the NASDAQ 100 index, namely `Apple`, `Google` and `Facebook`, respectively. They are stored in three different `.csv` files.\n",
    "\n",
    "Each of the above datasets contains different trading information on the observed stocks, identified by the column `Symbol`, consisting of:\n",
    " * the trading date, represented by `Date`;\n",
    " * the highest and lowest price observed in that trading session, represented by the column `High` and `Low` respectively;\n",
    " * the opening and closing price, represented by `Open` and `Close`;\n",
    " * and finally the observed `Volume` in each session.\n",
    "\n",
    "Note that here we are dealing with the adjusted closing price. For the sake of completeness, please note that there is a little difference between the raw closing price and the adjusted closing price. The former is simply the cash value of that specific stock at the end of the trading day whereas the latter reflects the closing price of the stock in relation to other stock attributes. Hence, the adjusted is typically used as reference among traders and financial investors.\n",
    "\n",
    "You are asked to import those datasets, using the most appropriate functions in `Pandas`, so that at the end you should have a single `pandas.DataFrame` object in memory containing the three sources.\n",
    "\n",
    "**Hint**. Remember that typically a `csv` file is read using the `pd.read_csv()` function. In the course [`Data Wrangling with Pandas`](https://cloudacademy.com/course/data-wrangling-with-pandas-1089/course-introduction/?context_resource=lp&context_id=1988) we have covered a few methods to join different data sources. Here, you are asked to perform the concatenation by row. Which method is the most appropriate?"
   ]
  },
  {
   "cell_type": "code",
   "execution_count": null,
   "metadata": {
    "hideCode": false,
    "hidePrompt": false
   },
   "outputs": [],
   "source": [
    "import pandas as pd"
   ]
  },
  {
   "cell_type": "markdown",
   "metadata": {
    "hideCode": false,
    "hidePrompt": false
   },
   "source": [
    "**Step 1**: Import the Apple data, and store them into a Python variable called `aapl_df`. <br>"
   ]
  },
  {
   "cell_type": "code",
   "execution_count": null,
   "metadata": {
    "hideCode": false,
    "hidePrompt": false
   },
   "outputs": [],
   "source": [
    "aapl_df = pd.read_csv('data/AAPL.csv')"
   ]
  },
  {
   "cell_type": "markdown",
   "metadata": {
    "hideCode": false,
    "hidePrompt": false
   },
   "source": [
    "**Step 2**: Import the Google data, and store them into a Python variable called `googl_df`. <br>"
   ]
  },
  {
   "cell_type": "code",
   "execution_count": null,
   "metadata": {
    "hideCode": false,
    "hidePrompt": false
   },
   "outputs": [],
   "source": [
    "googl_df = pd.read_csv('data/GOOGL.csv')"
   ]
  },
  {
   "cell_type": "markdown",
   "metadata": {
    "hideCode": false,
    "hidePrompt": false
   },
   "source": [
    "**Step 3**: Import the Facebook data, and store them into a Python variable called `fb_df`. <br>"
   ]
  },
  {
   "cell_type": "code",
   "execution_count": null,
   "metadata": {
    "hideCode": false,
    "hidePrompt": false
   },
   "outputs": [],
   "source": [
    "fb_df = pd.read_csv('data/FB.csv')"
   ]
  },
  {
   "cell_type": "markdown",
   "metadata": {
    "hideCode": false,
    "hidePrompt": false
   },
   "source": [
    "**Step 4**: Concatenate the three `pandas.DataFfame` objects into a single variable, and call it `df_all`. "
   ]
  },
  {
   "cell_type": "code",
   "execution_count": null,
   "metadata": {
    "hideCode": false,
    "hidePrompt": false
   },
   "outputs": [],
   "source": [
    "df_all = pd.concat([aapl_df, googl_df, fb_df], axis=0)"
   ]
  },
  {
   "cell_type": "markdown",
   "metadata": {
    "hideCode": false,
    "hidePrompt": false
   },
   "source": [
    "**Step 5**: How many rows does the `df_all` have? And how many columns? \n",
    "Store the number of rows and columns inside the variables `rows` and `columns`, respectively."
   ]
  },
  {
   "cell_type": "code",
   "execution_count": null,
   "metadata": {
    "hideCode": false,
    "hidePrompt": false
   },
   "outputs": [],
   "source": [
    "df_all.shape"
   ]
  },
  {
   "cell_type": "code",
   "execution_count": null,
   "metadata": {
    "hideCode": false,
    "hidePrompt": false
   },
   "outputs": [],
   "source": [
    "rows=df_all.shape[0]\n",
    "columns=df_all.shape[1]"
   ]
  },
  {
   "cell_type": "code",
   "execution_count": null,
   "metadata": {
    "hideCode": false,
    "hidePrompt": false
   },
   "outputs": [],
   "source": [
    "assert rows==df_all.shape[0]\n",
    "assert columns==df_all.shape[1]"
   ]
  },
  {
   "cell_type": "markdown",
   "metadata": {
    "hideCode": false,
    "hidePrompt": false
   },
   "source": [
    "**Step 6**: Inspect the first five rows of the `aapl_df`"
   ]
  },
  {
   "cell_type": "code",
   "execution_count": null,
   "metadata": {
    "hideCode": false,
    "hidePrompt": false
   },
   "outputs": [],
   "source": [
    "aapl_df.head()"
   ]
  },
  {
   "cell_type": "markdown",
   "metadata": {
    "hideCode": false,
    "hidePrompt": false
   },
   "source": [
    "### 1.2 Basic Manipulations"
   ]
  },
  {
   "cell_type": "markdown",
   "metadata": {
    "hideCode": false,
    "hidePrompt": false
   },
   "source": [
    "Now, let us inspect the columns inside the `pandas.DataFrame`. Here, we are required to perform basic operations that allow us to change the type of the data under investigation."
   ]
  },
  {
   "cell_type": "markdown",
   "metadata": {
    "hideCode": false,
    "hidePrompt": false
   },
   "source": [
    "**Step 1**. Print out the list of columns inside the object `df_all`."
   ]
  },
  {
   "cell_type": "code",
   "execution_count": null,
   "metadata": {
    "hideCode": false,
    "hidePrompt": false
   },
   "outputs": [],
   "source": [
    "print(list(df_all))"
   ]
  },
  {
   "cell_type": "markdown",
   "metadata": {
    "hideCode": false,
    "hidePrompt": false
   },
   "source": [
    "**Step 2**. Applying the `.info()` method on the `df_all` results into a summary table containing information on the above columns. Tha has been run for you, and the output is shown below:"
   ]
  },
  {
   "cell_type": "code",
   "execution_count": null,
   "metadata": {
    "hideCode": false,
    "hidePrompt": false
   },
   "outputs": [],
   "source": [
    "df_all.info()"
   ]
  },
  {
   "cell_type": "markdown",
   "metadata": {
    "hideCode": false,
    "hidePrompt": false
   },
   "source": [
    "**Step 3**. It is clear that the `Date` column is of type object. We wish to convert it into a `Datetime`.\n",
    "\n",
    "Convert the `Date` columns using the pandas function `pd.DateTime`: this function simply converts a pandas series of type object into datetime. For more information, please check out the [documentation](https://pandas.pydata.org/pandas-docs/stable/reference/api/pandas.to_datetime.html)."
   ]
  },
  {
   "cell_type": "code",
   "execution_count": null,
   "metadata": {
    "hideCode": false,
    "hidePrompt": false
   },
   "outputs": [],
   "source": [
    "df_all['Date'] = df_all[['Date']].apply(lambda x: pd.to_datetime(x))"
   ]
  },
  {
   "cell_type": "markdown",
   "metadata": {
    "hideCode": false,
    "hidePrompt": false
   },
   "source": [
    "**Step 4**: check that the `Date` column is indeed a `Datetime` using the `.info()` method. If still you are getting `object` type, you must be sure you are applying the `pd.to_datetime()` correctly on the `df_all[['Date']]` dataframe object."
   ]
  },
  {
   "cell_type": "code",
   "execution_count": null,
   "metadata": {
    "hideCode": false,
    "hidePrompt": false
   },
   "outputs": [],
   "source": [
    "df_all.info()"
   ]
  },
  {
   "cell_type": "code",
   "execution_count": null,
   "metadata": {
    "hideCode": false,
    "hidePrompt": false
   },
   "outputs": [],
   "source": [
    "assert df_all['Date'].dtypes == '<M8[ns]'"
   ]
  },
  {
   "cell_type": "code",
   "execution_count": null,
   "metadata": {},
   "outputs": [],
   "source": [
    "# ====================================\n",
    "# Validation Check\n",
    "# ====================================\n",
    "list_dtypes = list(df_all.dtypes)\n",
    "with open('results/vcf_pandas_01.txt', 'w') as f:\n",
    "    for item in list_dtypes:\n",
    "        f.write(\"%s\\n\" % item)"
   ]
  },
  {
   "cell_type": "markdown",
   "metadata": {
    "hideCode": false,
    "hidePrompt": false
   },
   "source": [
    "**Step 4**. Verify that there are just three distinct values for the column `Symbol`. Use the `drop_duplicates()` columns to do that. Store the result into the variable `distinct_elements`."
   ]
  },
  {
   "cell_type": "code",
   "execution_count": null,
   "metadata": {
    "hideCode": false,
    "hidePrompt": false
   },
   "outputs": [],
   "source": [
    "distinct_elements = df_all['Symbol'].drop_duplicates().count()"
   ]
  },
  {
   "cell_type": "code",
   "execution_count": null,
   "metadata": {
    "hideCode": false,
    "hidePrompt": false
   },
   "outputs": [],
   "source": [
    "assert df_all['Symbol'].drop_duplicates().count() == 3"
   ]
  },
  {
   "cell_type": "markdown",
   "metadata": {
    "hideCode": false,
    "hidePrompt": false
   },
   "source": [
    "### 1.2.1 Plot the AAPL Series"
   ]
  },
  {
   "cell_type": "markdown",
   "metadata": {
    "hideCode": false,
    "hidePrompt": false
   },
   "source": [
    "You are asked now to plot the `AAPL` series using the `matplotlib` API. In particular, you have to filter out the `all_df` dataset by retaining just the AAPL close series.\n",
    "Then, plot it with the following requirements:  <br>\n",
    "* set the `figsize` to be equal to `(10,8)`. <br>\n",
    "* use a dashed `linestyle`; <br>\n",
    "* set the xlabel as `\"Trading Day\"`; <br>\n",
    "* set the ylabel as `\"Adj CLosing Price\"`; <br>\n",
    "* using the built-in context manager, change temporarily the plot style and set it as `ggplot`.\n",
    "\n",
    "Before plotting the series, be sure  to set a new x-grid so that each new x-tick is shown every 15 trading days. Rotate the ticks labels by 30 degrees.\n",
    "\n",
    "**Hint** To create a new grid, please use the `set_xticks()` methods applied on the axes object. As your reference, you might want to check the following [lecture](https://cloudacademy.com/course/data-visualization-with-python-using-matplotlib-1127/customization-in-matplotlib/) in our content library."
   ]
  },
  {
   "cell_type": "code",
   "execution_count": null,
   "metadata": {
    "hideCode": false,
    "hidePrompt": false
   },
   "outputs": [],
   "source": [
    "import matplotlib.pyplot as plt"
   ]
  },
  {
   "cell_type": "markdown",
   "metadata": {
    "hideCode": false,
    "hidePrompt": false
   },
   "source": [
    "**Step 1**: filter out the `df_all` by `AAPL`"
   ]
  },
  {
   "cell_type": "code",
   "execution_count": null,
   "metadata": {
    "hideCode": false,
    "hidePrompt": false
   },
   "outputs": [],
   "source": [
    "appl_series = df_all.query(\"Symbol=='AAPL'\")"
   ]
  },
  {
   "cell_type": "markdown",
   "metadata": {
    "hideCode": false,
    "hidePrompt": false
   },
   "source": [
    "**Step 2**: create new x-ticks.\n",
    "\n",
    "This is an advanced part, so it requires a little bit of introduction for you. You will be asked to use to advanced `pandas` functions, namely `pd.DateOffset`, which is used to create a grid of dates inside the `pd.date_range()`, which actually creates a fixed frequency DatetimeIndex. For more information, please visit the official documentation [here](https://pandas.pydata.org/pandas-docs/stable/reference/api/pandas.date_range.html).\n",
    "\n",
    "To facilitate your work, the following snippet has been prefilled for you:"
   ]
  },
  {
   "cell_type": "code",
   "execution_count": null,
   "metadata": {
    "hideCode": false,
    "hidePrompt": false
   },
   "outputs": [],
   "source": [
    "my_dates = list(\n",
    "    pd.date_range(\n",
    "        start=appl_series['Date'].min(),\n",
    "        end=appl_series['Date'].max() + pd.DateOffset(1),\n",
    "        freq=pd.offsets.Day(15))\n",
    ")\n",
    "my_datetimes = [pd.to_datetime(elem).date() for elem in my_dates]"
   ]
  },
  {
   "cell_type": "markdown",
   "metadata": {
    "hideCode": false,
    "hidePrompt": false
   },
   "source": [
    "**Step 3**: plot the plain series with `figsize=[10,8]`"
   ]
  },
  {
   "cell_type": "code",
   "execution_count": null,
   "metadata": {
    "hideCode": false,
    "hidePrompt": false
   },
   "outputs": [],
   "source": [
    "fig, ax = plt.subplots(figsize=[10,8])\n",
    "ax.plot(appl_series['Date'], appl_series['Close'])\n",
    "plt.show()"
   ]
  },
  {
   "cell_type": "markdown",
   "metadata": {
    "hideCode": false,
    "hidePrompt": false
   },
   "source": [
    "**Step 4**: use a dashed `linestyle` "
   ]
  },
  {
   "cell_type": "code",
   "execution_count": null,
   "metadata": {
    "hideCode": false,
    "hidePrompt": false
   },
   "outputs": [],
   "source": [
    "fig, ax = plt.subplots(figsize=[10,8])\n",
    "ax.plot(appl_series['Date'], appl_series['Close'], linestyle='--')\n",
    "plt.show()"
   ]
  },
  {
   "cell_type": "markdown",
   "metadata": {
    "hideCode": false,
    "hidePrompt": false
   },
   "source": [
    "**Step 5**: add both `x-label` and `y-label` "
   ]
  },
  {
   "cell_type": "code",
   "execution_count": null,
   "metadata": {
    "hideCode": false,
    "hidePrompt": false
   },
   "outputs": [],
   "source": [
    "fig, ax = plt.subplots(figsize=[10,8])\n",
    "ax.plot(appl_series['Date'], appl_series['Close'], linestyle='--')\n",
    "ax.set_xlabel('Trading Day')\n",
    "ax.set_ylabel('Adj. Closing Price')\n",
    "plt.show()"
   ]
  },
  {
   "cell_type": "markdown",
   "metadata": {
    "hideCode": false,
    "hidePrompt": false
   },
   "source": [
    "**Step 6**: change `x-ticks` using the most appropriate methods "
   ]
  },
  {
   "cell_type": "code",
   "execution_count": null,
   "metadata": {
    "hideCode": false,
    "hidePrompt": false
   },
   "outputs": [],
   "source": [
    "fig, ax = plt.subplots(figsize=[10,8])\n",
    "ax.plot(appl_series['Date'], appl_series['Close'], linestyle='--')\n",
    "ax.set_xticks(my_datetimes)\n",
    "ax.set_xticklabels(my_datetimes, rotation=30)\n",
    "ax.set_xlabel('Trading Day')\n",
    "ax.set_ylabel('Adj. Closing Price')\n",
    "plt.show()"
   ]
  },
  {
   "cell_type": "markdown",
   "metadata": {
    "hideCode": false,
    "hidePrompt": false
   },
   "source": [
    "**Step 7**: use the `ggplot` style just for this plot"
   ]
  },
  {
   "cell_type": "code",
   "execution_count": null,
   "metadata": {
    "hideCode": false,
    "hidePrompt": false
   },
   "outputs": [],
   "source": [
    "with plt.style.context('ggplot'):\n",
    "    fig, ax = plt.subplots(figsize=[10,8])\n",
    "    ax.plot(appl_series['Date'], appl_series['Close'], linestyle='--')\n",
    "    ax.set_xticks(my_datetimes)\n",
    "    ax.set_xticklabels(my_datetimes, rotation=30)\n",
    "    ax.set_xlabel('Trading Day')\n",
    "    ax.set_ylabel('Adj. Closing Price')\n",
    "    plt.show()\n",
    "    "
   ]
  },
  {
   "cell_type": "markdown",
   "metadata": {
    "hideCode": false,
    "hidePrompt": false
   },
   "source": [
    "### 2 Data Transformation and Aggregation"
   ]
  },
  {
   "cell_type": "markdown",
   "metadata": {
    "hideCode": false,
    "hidePrompt": false
   },
   "source": [
    "### 2.1 Data Transformation"
   ]
  },
  {
   "cell_type": "markdown",
   "metadata": {
    "hideCode": false,
    "hidePrompt": false
   },
   "source": [
    "The dataset stored in `df_all` is a tidy dataset. We now want to perform aggregating operations with respect to the `Close` price column, say creating a new `pandas.DataFrame` object containing as index the `Date` and as columns the `Stock`. How would you perform this operation?\n",
    "\n",
    "It might be useful to use the `pivot()` method: that requires three arguments:\n",
    " - `index`: the column we wish to have as index of the new dataframe - in this case `Date`; <br>\n",
    " - `columns`: the column we wish to have as columns of the new dataframe - in this case `Symbol`; <br>\n",
    " - `values`: the column we wish to have as values of the new dataframe - in this case `Close`. <br>\n",
    " \n",
    "Store the result into te object `pivot_close`. At the end, we sort the index using the `sort_index()` method so that we are sure the index is correctly set. At the end, print out the first five rows of the resulting `pivot_close` dataframe by applying `head()` on it.\n",
    "\n",
    "To get more insights about this method, as well as other ways to reach the same result, please check this [lecture](https://cloudacademy.com/course/data-wrangling-with-pandas-1089/transformation-of-a-dataset/?context_resource=lp&context_id=1988) from the course `Data wrangling with Pandas`."
   ]
  },
  {
   "cell_type": "code",
   "execution_count": null,
   "metadata": {
    "hideCode": false,
    "hidePrompt": false
   },
   "outputs": [],
   "source": [
    "pivot_close = df_all.pivot(\n",
    "    index='Date',\n",
    "    columns='Symbol',\n",
    "    values='Close'\n",
    ").sort_index()"
   ]
  },
  {
   "cell_type": "code",
   "execution_count": null,
   "metadata": {
    "hideCode": false,
    "hidePrompt": false
   },
   "outputs": [],
   "source": [
    "pivot_close.head()"
   ]
  },
  {
   "cell_type": "code",
   "execution_count": null,
   "metadata": {
    "hideCode": false,
    "hidePrompt": false
   },
   "outputs": [],
   "source": [
    "assert list(pivot_close) == ['AAPL', 'FB', 'GOOGL']"
   ]
  },
  {
   "cell_type": "markdown",
   "metadata": {
    "hideCode": false,
    "hidePrompt": false
   },
   "source": [
    "For the sake of completeness, please note that the same result could have been obtained in the following fashion:"
   ]
  },
  {
   "cell_type": "code",
   "execution_count": null,
   "metadata": {
    "hideCode": false,
    "hidePrompt": false
   },
   "outputs": [],
   "source": [
    "alternative_pivoting = df_all[\n",
    "    ['Close','Symbol', 'Date']\n",
    "].drop_duplicates().groupby(['Date', 'Symbol']).mean()['Close'].unstack()"
   ]
  },
  {
   "cell_type": "code",
   "execution_count": null,
   "metadata": {
    "hideCode": false,
    "hidePrompt": false
   },
   "outputs": [],
   "source": [
    "alternative_pivoting.head()"
   ]
  },
  {
   "cell_type": "markdown",
   "metadata": {
    "hideCode": false,
    "hidePrompt": false
   },
   "source": [
    "### 2.2 Data Aggregation: compute the mean price observed "
   ]
  },
  {
   "cell_type": "markdown",
   "metadata": {
    "hideCode": false,
    "hidePrompt": false
   },
   "source": [
    "Using the `pivot()` function is fine for transforming the row dataset but not for aggregation. For that, we typically use the `pivot_table()` method. In this exercise, you are asked to aggregate the raw data into the average price observed from Jan 01, 2020 to Sept 30, 2020 for the three stocks. Be sure to print the aggregated dataframe out as your final step of this operation."
   ]
  },
  {
   "cell_type": "code",
   "execution_count": null,
   "metadata": {
    "hideCode": false,
    "hidePrompt": false
   },
   "outputs": [],
   "source": [
    "mean_close = df_all.pivot_table(\n",
    "    index='Symbol',\n",
    "    values='Close',\n",
    "    aggfunc='mean'\n",
    ").sort_index()"
   ]
  },
  {
   "cell_type": "code",
   "execution_count": null,
   "metadata": {
    "hideCode": false,
    "hidePrompt": false
   },
   "outputs": [],
   "source": [
    "print(mean_close)"
   ]
  },
  {
   "cell_type": "code",
   "execution_count": null,
   "metadata": {
    "hideCode": false,
    "hidePrompt": false
   },
   "outputs": [],
   "source": [
    "assert round(mean_close.iloc[2].values[0]) == 1410"
   ]
  },
  {
   "cell_type": "markdown",
   "metadata": {
    "hideCode": false,
    "hidePrompt": false
   },
   "source": [
    "### 2.3 Data Aggregation: compute the median price and the max volume observed"
   ]
  },
  {
   "cell_type": "markdown",
   "metadata": {
    "hideCode": false,
    "hidePrompt": false
   },
   "source": [
    "You are now asked to performed an aggregation on two different columns.\n",
    "Remember that you can pass a list of `values` to the `pivot_table()` and that the `aggfunc` can be passed as a dictionary, where each key represents the column we wish to aggregate, and its value is nothing more that the aggregating function. <br>\n",
    "Hence, you are asked to compute: <br>\n",
    "\n",
    "* the max value observed in the `Volume` column for each stock;\n",
    "* the median value observed in the `Close` column for each stock.\n",
    "\n",
    "Store the result into the object `agg_close_volume`."
   ]
  },
  {
   "cell_type": "code",
   "execution_count": null,
   "metadata": {
    "hideCode": false,
    "hidePrompt": false
   },
   "outputs": [],
   "source": [
    "agg_close_volume = df_all.pivot_table(\n",
    "    index='Symbol',\n",
    "    values=['Close', 'Volume'],\n",
    "    aggfunc={'Volume':'max', 'Close':'median'}\n",
    ").sort_index()"
   ]
  },
  {
   "cell_type": "code",
   "execution_count": null,
   "metadata": {
    "hideCode": false,
    "hidePrompt": false
   },
   "outputs": [],
   "source": [
    "agg_close_volume"
   ]
  },
  {
   "cell_type": "code",
   "execution_count": null,
   "metadata": {},
   "outputs": [],
   "source": [
    "# ====================================\n",
    "# Validation Check\n",
    "# ====================================\n",
    "\n",
    "my_list = [round(elem) for elem in agg_close_volume.iloc[0].to_list()]\n",
    "with open('results/vcf_pandas_02.txt', 'w') as f:\n",
    "    for item in my_list:\n",
    "        f.write(\"%s\\n\" % item)"
   ]
  },
  {
   "cell_type": "code",
   "execution_count": null,
   "metadata": {
    "hideCode": false,
    "hidePrompt": false
   },
   "outputs": [],
   "source": [
    "assert round(agg_close_volume.iloc[0]['Volume']) == 426884800"
   ]
  },
  {
   "cell_type": "markdown",
   "metadata": {
    "hideCode": false,
    "hidePrompt": false
   },
   "source": [
    "### 2.4  Monthly Average Closing Price"
   ]
  },
  {
   "cell_type": "markdown",
   "metadata": {
    "hideCode": false,
    "hidePrompt": false
   },
   "source": [
    "Suppose now we are interested in getting the average closing price observed for each single stock. <br>\n",
    "This can be easily performed in different ways: one of the easiest one is to employ the `.groupby()` method. "
   ]
  },
  {
   "cell_type": "markdown",
   "metadata": {
    "hideCode": false,
    "hidePrompt": false
   },
   "source": [
    "#### Option 1: using the `groupby()` method"
   ]
  },
  {
   "cell_type": "markdown",
   "metadata": {
    "hideCode": false,
    "hidePrompt": false
   },
   "source": [
    "In this scenario, we have to perform a little bit of data wrangling as follows:"
   ]
  },
  {
   "cell_type": "markdown",
   "metadata": {
    "hideCode": false,
    "hidePrompt": false
   },
   "source": [
    "**Step 1**: create a new `pandas.DataFrame` object, called `filtered_appl_df`, by slicing the `df_all` with `['Date','Close']` and by retaining just the `AAPL` stock observations."
   ]
  },
  {
   "cell_type": "code",
   "execution_count": null,
   "metadata": {
    "hideCode": false,
    "hidePrompt": false
   },
   "outputs": [],
   "source": [
    "filtered_appl_df = df_all[df_all[\"Symbol\"]=='AAPL'][['Date','Close']]"
   ]
  },
  {
   "cell_type": "markdown",
   "metadata": {
    "hideCode": false,
    "hidePrompt": false
   },
   "source": [
    "**Step 2**:  add to the `filtered_appl_df` a new column, called `Month`, which represents the month we have observed the statistical observation. To do that, apply the pandas function `DatetimeIndex` to `df_all['Date']`, and store to the new column only the attribute `month`."
   ]
  },
  {
   "cell_type": "code",
   "execution_count": null,
   "metadata": {
    "hideCode": false,
    "hidePrompt": false
   },
   "outputs": [],
   "source": [
    "filtered_appl_df['Month'] = pd.DatetimeIndex(filtered_appl_df['Date']).month "
   ]
  },
  {
   "cell_type": "markdown",
   "metadata": {
    "hideCode": false,
    "hidePrompt": false
   },
   "source": [
    "**Step 3**: drop the `Date` column from the `filtered_appl_df` pandas object"
   ]
  },
  {
   "cell_type": "code",
   "execution_count": null,
   "metadata": {
    "hideCode": false,
    "hidePrompt": false
   },
   "outputs": [],
   "source": [
    "filtered_appl_df.drop(['Date'], axis=1, inplace=True)"
   ]
  },
  {
   "cell_type": "markdown",
   "metadata": {
    "hideCode": false,
    "hidePrompt": false
   },
   "source": [
    "**Step 4**: after having applied the `groupby()` on the `Month` column, apply the `.mean()` function to get the monthly average closing price."
   ]
  },
  {
   "cell_type": "code",
   "execution_count": null,
   "metadata": {
    "hideCode": false,
    "hidePrompt": false
   },
   "outputs": [],
   "source": [
    "filtered_appl_df.groupby('Month').mean().rename(columns={'Close':'Average Close Price'})"
   ]
  },
  {
   "cell_type": "markdown",
   "metadata": {
    "hideCode": false,
    "hidePrompt": false
   },
   "source": [
    "#### Option 2: using the `resample` method"
   ]
  },
  {
   "cell_type": "markdown",
   "metadata": {
    "hideCode": false,
    "hidePrompt": false
   },
   "source": [
    "A very useful method in `pandas` to perform the above operations is with the `.resample()` function: this permits you to resample the data so that the time series is at a monthly level.\n",
    "\n",
    "The `.resample()` function is often used because it allows, with just one line of code, to perform complex data wrangling operations, as well as it provides greater flexibility over frequency conversion of time series."
   ]
  },
  {
   "cell_type": "markdown",
   "metadata": {
    "hideCode": false,
    "hidePrompt": false
   },
   "source": [
    "To do so, we need to:\n",
    "* set `Date` as index of a new pandas object, that we call `new_filtered_appl_df`;\n",
    "* applying the `.resample()` function on the `Close` column from the `new_filtered_appl_df`, by specifying the interval size of the resample function - in this case the level will be set to month, denoted by the string `'M'`;\n",
    "* we then apply the `.mean()` function on the resulting object."
   ]
  },
  {
   "cell_type": "code",
   "execution_count": null,
   "metadata": {
    "hideCode": false,
    "hidePrompt": false
   },
   "outputs": [],
   "source": [
    "new_filtered_appl_df = df_all.set_index('Date')\n",
    "df_resampled = new_filtered_appl_df[['Close']].resample('M').mean()\n",
    "df_resampled"
   ]
  },
  {
   "cell_type": "markdown",
   "metadata": {
    "hideCode": false,
    "hidePrompt": false
   },
   "source": [
    "## 3 Data Comparison with respect to Quantitative Transformation"
   ]
  },
  {
   "cell_type": "markdown",
   "metadata": {
    "hideCode": false,
    "hidePrompt": false
   },
   "source": [
    "Daily returns are defined as percentage change in the observed price. In mathematical terms, are defined as follows:\n",
    "$$ R_t = \\frac{P_{t}}{P_{t-1}}-1 $$\n",
    "If you have attended the `Data Wrangling with Pandas` course, this concept should be familiar to you. If not, do not worry: it is sufficient to know that daily returns are used to better evaluate any investment (compared to simple difference in price). Below we report a method that basically computes simple returns."
   ]
  },
  {
   "cell_type": "code",
   "execution_count": null,
   "metadata": {
    "hideCode": false,
    "hidePrompt": false
   },
   "outputs": [],
   "source": [
    "def daily_change(row): \n",
    "    return row.pct_change()"
   ]
  },
  {
   "cell_type": "markdown",
   "metadata": {
    "hideCode": false,
    "hidePrompt": false
   },
   "source": [
    "Note that we can compute explicitly them using the `.shift()` method, and that this is preferred form a practical point of view, since most of the times, financial returns are computed as log-returns. Mathematically,\n",
    "\n",
    "$$ log(R_t) = \\log(P_{t}) - log(P_{t-1}) $$\n",
    "\n",
    "You are asked to compute the log returns, and store the result in a `pandas.DataFrame` object."
   ]
  },
  {
   "cell_type": "markdown",
   "metadata": {
    "hideCode": false,
    "hidePrompt": false
   },
   "source": [
    "**Step 1**: Compute the simple returns using the given method `def daily_change_shift()`. Store the results into the `daily_returns` object."
   ]
  },
  {
   "cell_type": "code",
   "execution_count": null,
   "metadata": {
    "hideCode": false,
    "hidePrompt": false
   },
   "outputs": [],
   "source": [
    "def daily_change_shift(row):\n",
    "    return row / row.shift(1) - 1"
   ]
  },
  {
   "cell_type": "code",
   "execution_count": null,
   "metadata": {
    "hideCode": false,
    "hidePrompt": false
   },
   "outputs": [],
   "source": [
    "daily_returns = pivot_close.apply(lambda x: daily_change_shift(x))"
   ]
  },
  {
   "cell_type": "markdown",
   "metadata": {
    "hideCode": false,
    "hidePrompt": false
   },
   "source": [
    "Basically, this is the same of applying, for each Symbol, the following syntax: for example,\n",
    "```python\n",
    "df_all[df_all['Symbol']=='AAPL']['Close'] / df_all[df_all['Symbol']=='AAPL']['Close'].shift(1) - 1\n",
    "```"
   ]
  },
  {
   "cell_type": "markdown",
   "metadata": {
    "hideCode": false,
    "hidePrompt": false
   },
   "source": [
    "**Step 2**: Compute the log returns.\n",
    "\n",
    "We use `numpy` to compute the logarithm of the above quantity. We therefore  `import numpy as np` and then use the `np.log()` method on the daily observed price. This has been done for you.\n",
    "\n",
    "Apply the `daily_log_change_shift()` on the `pivot_close` dataframe, and store the result into the `log_daily_returns` object."
   ]
  },
  {
   "cell_type": "code",
   "execution_count": null,
   "metadata": {
    "hideCode": false,
    "hidePrompt": false
   },
   "outputs": [],
   "source": [
    "import numpy as np\n",
    "def daily_log_change_shift(row):\n",
    "    return np.log(row) - np.log(row.shift(1)) - 1"
   ]
  },
  {
   "cell_type": "code",
   "execution_count": null,
   "metadata": {
    "hideCode": false,
    "hidePrompt": false
   },
   "outputs": [],
   "source": [
    "log_daily_returns = pivot_close.apply(lambda x: daily_log_change_shift(x))"
   ]
  },
  {
   "cell_type": "markdown",
   "metadata": {
    "hideCode": false,
    "hidePrompt": false
   },
   "source": [
    "**Step 3**: Show the first five rows of the `log_daily_returns` dataframe object"
   ]
  },
  {
   "cell_type": "code",
   "execution_count": null,
   "metadata": {
    "hideCode": false,
    "hidePrompt": false
   },
   "outputs": [],
   "source": [
    "log_daily_returns.head()"
   ]
  },
  {
   "cell_type": "code",
   "execution_count": null,
   "metadata": {
    "hideCode": false,
    "hidePrompt": false
   },
   "outputs": [],
   "source": [
    "assert round(log_daily_returns.iloc[1,0], 4) == -1.0098"
   ]
  },
  {
   "cell_type": "markdown",
   "metadata": {
    "hideCode": false,
    "hidePrompt": false
   },
   "source": [
    "### 3.1 Plot the Returns using a Histogram"
   ]
  },
  {
   "cell_type": "markdown",
   "metadata": {
    "hideCode": false,
    "hidePrompt": false
   },
   "source": [
    "Here you are asked to plot the returns using two kind of plots we have covered during the course `Data Visualization with Python using Matplotlib`, namely histograms and line plots.\n",
    "\n",
    "First of all, you are asked to provide a visual representation of the distribution of the `AAPL` returns. To do that, we employ a histogram. In matplotlib, we use the function `hist()` applied on the axes object. "
   ]
  },
  {
   "cell_type": "markdown",
   "metadata": {
    "hideCode": false,
    "hidePrompt": false
   },
   "source": [
    "**Step 1**: create a hitogram by calling `plt.subplots()` with `figsize` argument equal to `(10,8)`. Then: \n",
    "\n",
    "* apply on the `ax` object the `hist()` function, by specifying the arguments `label` equal to `AAPL Stock Returns`, and `bins` equal to 10. Recall that you need to pass, as firt argument, the `daily_returns['AAPL']` object.\n",
    "* Set the `xlabel` as `Returns` and `y_label` as `N. observations`. \n",
    "* Add a legend, before calling `plt.show()`, by specifying `loc='upper left'`.\n",
    "\n",
    "* wrap everything into a context manager so that the `seaborn` style is applied only on this figure."
   ]
  },
  {
   "cell_type": "code",
   "execution_count": null,
   "metadata": {
    "hideCode": false,
    "hidePrompt": false
   },
   "outputs": [],
   "source": [
    "with plt.style.context('seaborn'):\n",
    "    fig, ax = plt.subplots(figsize=[10,8])\n",
    "    ax.hist(daily_returns['AAPL'], label='AAPL Stock Returns', bins=10)\n",
    "    ax.set_xlabel('Returns')\n",
    "    ax.set_ylabel('N. observations')\n",
    "    ax.legend(loc='upper left')\n",
    "    plt.show()"
   ]
  },
  {
   "cell_type": "markdown",
   "metadata": {
    "hideCode": false,
    "hidePrompt": false
   },
   "source": [
    "Alternatively, we can plot the series over time, as follows:<br>\n",
    "\n",
    " - instead of `hist()`, use the `plot()` method on the `ax` object. Remember that now you need to pass as `x` argument the `daily_returns.index` and as `y`  `daily_returns['AAPL']`. No `bins` are required here; <br>\n",
    " \n",
    " - to get a better readability of the plot, apply on the `ax` object: `set_xlabel('Time')`, `set_ylabel('Daily Returns')` and set also a title with font size equal to 15 and title euqal to `Daily Returns AAPL`;<br>\n",
    " \n",
    " - finally, apply on the `ax` object the `set_xticks()` method by passing the `my_datetimes` list (we have generated them in Section 2), and rotate the axis by 30 degree using the most appropriate method.\n",
    "\n",
    "Remember to add a context manager to apply the `seaborn` stlye on this figure."
   ]
  },
  {
   "cell_type": "code",
   "execution_count": null,
   "metadata": {
    "hideCode": false,
    "hidePrompt": false
   },
   "outputs": [],
   "source": [
    "with plt.style.context('seaborn'):\n",
    "    fig, ax = plt.subplots(figsize=[10,8])\n",
    "    ax.plot(daily_returns.index, daily_returns['AAPL'], label='daily returns') \n",
    "    ax.set_xlabel('Time')\n",
    "    ax.set_ylabel('Daily Returns')\n",
    "    ax.set_title('Daily Returns AAPL', fontdict={'size':15})\n",
    "    ax.set_xticks(my_datetimes)\n",
    "    ax.set_xticklabels(my_datetimes, rotation=30)\n",
    "    plt.show()"
   ]
  },
  {
   "cell_type": "markdown",
   "metadata": {
    "hideCode": false,
    "hidePrompt": false
   },
   "source": [
    "### 3.2 Daily Cumulative Returns"
   ]
  },
  {
   "cell_type": "markdown",
   "metadata": {
    "hideCode": false,
    "hidePrompt": false
   },
   "source": [
    "Daily returns are fine but sometimes we would like to know how the current investment is performing in a larger time window, say a month. To measure this, a different metric is used in practice. The cumulative daily rate of return is useful to determine the value of an investment at regular intervals. You can calculate the cumulative daily rate of return starting from the daily returns, using the following method:"
   ]
  },
  {
   "cell_type": "code",
   "execution_count": null,
   "metadata": {
    "hideCode": false,
    "hidePrompt": false
   },
   "outputs": [],
   "source": [
    "def daily_cum_returns(row):\n",
    "    return (row + 1).cumprod()"
   ]
  },
  {
   "cell_type": "markdown",
   "metadata": {
    "hideCode": false,
    "hidePrompt": false
   },
   "source": [
    "**Step 1**: compute the cumulative returns by applying the custom function provided for you: you need to apply to the `daily_returns` dataframe the function `daily_cum_returns`. This will compute the cumulative returns for each trading day. Store the resulting dataframe into the object `cum_daily_returns`, and show its first five rows."
   ]
  },
  {
   "cell_type": "code",
   "execution_count": null,
   "metadata": {
    "hideCode": false,
    "hidePrompt": false
   },
   "outputs": [],
   "source": [
    "cum_daily_returns = daily_returns.apply(lambda x: daily_cum_returns(x))"
   ]
  },
  {
   "cell_type": "code",
   "execution_count": null,
   "metadata": {
    "hideCode": false,
    "hidePrompt": false
   },
   "outputs": [],
   "source": [
    "cum_daily_returns.head()"
   ]
  },
  {
   "cell_type": "markdown",
   "metadata": {
    "hideCode": false,
    "hidePrompt": false
   },
   "source": [
    "**Step 2** Plot the results. Fisrt, change the ticks so that a string (instead of a datetime) is shown. This is done for you."
   ]
  },
  {
   "cell_type": "code",
   "execution_count": null,
   "metadata": {
    "hideCode": false,
    "hidePrompt": false
   },
   "outputs": [],
   "source": [
    "ticks_to_use = cum_daily_returns.index[::30]\n",
    "labels = [ i.strftime(\"%B-%d\") for i in ticks_to_use ]"
   ]
  },
  {
   "cell_type": "markdown",
   "metadata": {
    "hideCode": false,
    "hidePrompt": false
   },
   "source": [
    "**Step 3** Using the seaborn style as context, plot the `cum_daily_returns` for AAPL. Applt on the `ax` object the method `plot()`, taking care of the `label` defined as `cumulative returns`. Set the figseize as `(15,10)`.\n",
    "\n",
    "Then:\n",
    "* apply `set_xlabel('Time')` on the `ax` object;\n",
    "* apply `set_ylabel('Cum Returns')` on the `ax` object;\n",
    "* apply `set_xticks(ticks_to_use)` on the `ax` object;\n",
    "* apply `set_xticklabels(labels, rotation=30)` on the `ax` object;\n",
    "* apply `set_title('Cumulative Returns')` on the `ax` object.\n",
    " \n",
    "Remeber to to use the `ggplot` style."
   ]
  },
  {
   "cell_type": "code",
   "execution_count": null,
   "metadata": {
    "hideCode": false,
    "hidePrompt": false
   },
   "outputs": [],
   "source": [
    "with plt.style.context('ggplot'):\n",
    "    fig, ax = plt.subplots(figsize=[15,10])\n",
    "    ax.plot(cum_daily_returns.index, cum_daily_returns['AAPL'], label='cumulative returns') \n",
    "    ax.set_xlabel('Time')\n",
    "    ax.set_ylabel('Cum Returns')\n",
    "    ax.set_xticks(ticks_to_use)\n",
    "    ax.set_xticklabels(labels, rotation=30)\n",
    "    ax.set_title('Cumulative Returns')\n",
    "    plt.show()"
   ]
  },
  {
   "cell_type": "markdown",
   "metadata": {
    "hideCode": false,
    "hidePrompt": false
   },
   "source": [
    "### 3.3 Multiple Plots "
   ]
  },
  {
   "cell_type": "markdown",
   "metadata": {
    "hideCode": false,
    "hidePrompt": false
   },
   "source": [
    "We now plot the cumulative returns for `AAPL`, `FB` and `GGOGL` in the same plot. To do so, we apply on the `ax` object the `plot()` method as many times as the number of stocks we wish to plot - in this case three.\n",
    "\n",
    "Remmeber that each single call of the `plot()` requires `cum_daily_returns.index` as the `x` argument, and the `cum_daily_returns['<SYMBOL_HERE>']` as y, where `<SYMBOL_HERE>` is just a placeholder for the `Symbol` we wish to plot - e.g. `AAPL`.\n",
    "\n",
    "Then:\n",
    "* apply `set_xlabel('Time')` on the `ax` object;\n",
    "* apply `set_ylabel('Cum Returns')` on the `ax` object;\n",
    "* apply `set_xticks(ticks_to_use)` on the `ax` object;\n",
    "* apply `set_xticklabels(labels, rotation=30)` on the `ax` object;\n",
    "* apply `set_title('Cumulative Returns', fontdict={'size':15})` on the `ax` object.\n",
    " \n",
    "Remeber to add a legend with location `upper left` and to use the `ggplot` style."
   ]
  },
  {
   "cell_type": "code",
   "execution_count": null,
   "metadata": {
    "hideCode": false,
    "hidePrompt": false
   },
   "outputs": [],
   "source": [
    "with plt.style.context('ggplot'):\n",
    "    fig, ax = plt.subplots(figsize=[10,8])\n",
    "    ax.plot(cum_daily_returns.index, cum_daily_returns['AAPL'], label='AAPL') \n",
    "    ax.plot(cum_daily_returns.index, cum_daily_returns['FB'], label='FB') \n",
    "    ax.plot(cum_daily_returns.index, cum_daily_returns['GOOGL'], label='GOOGL') \n",
    "    ax.set_xlabel('Time')\n",
    "    ax.set_ylabel('Cum Returns')\n",
    "    ax.set_xticks(ticks_to_use)\n",
    "    ax.set_xticklabels(labels, rotation=30)\n",
    "    ax.set_title('Cumulative Returns', fontdict={'size':15})\n",
    "    ax.legend(loc='upper left')\n",
    "    plt.show()"
   ]
  },
  {
   "cell_type": "markdown",
   "metadata": {
    "hideCode": false,
    "hidePrompt": false
   },
   "source": [
    "### 3.4 Adding Annotations\n",
    "Sometimes, it is good to add more information on the figure. For instance, we might want to enrich the figure with a few information related to the phenomenon under investigation. In this case, we might want to highlight two important facts: at the beginning of March 2020, most of the European countries were facing ever increasing numbers of infected with covid-19. The threath of an impendings lockdowns caused a significant drop in the main indexes. We would like to annotate this event in the above figure.\n",
    "\n",
    "Furthermore, it is clear that at the end oj July 2020, a positive event affected to AAPL stock price. Indeed, the Q2 2020 results went out, and were the best ever observed for the Cupertino's company. We would like to highlight this event as well in the plot."
   ]
  },
  {
   "cell_type": "markdown",
   "metadata": {},
   "source": [
    "We would like to add those textual information inside the plot."
   ]
  },
  {
   "cell_type": "markdown",
   "metadata": {
    "hideCode": false,
    "hidePrompt": false
   },
   "source": [
    "**Hint** Typically, annotation are applied on the axes object with the method `.annotate()`. If you want to refresh your memory on this concept, please check the following [lecture](https://cloudacademy.com/course/data-visualization-with-python-using-matplotlib-1127/annotating-text-with-matplotlib/) out."
   ]
  },
  {
   "cell_type": "markdown",
   "metadata": {
    "hideCode": false,
    "hidePrompt": false
   },
   "source": [
    "**Step 1**:  take the pre-filled code below this cell, and add the annotation `\"European Lockdowns caused by SARS-COVID-19\"` with arguments:\n",
    " - `xy` equal to `[cum_daily_returns.index[40], 1.1]`, standing for the point on the cartesian plan where the event occurred.\n",
    " - `xytext` equal to `([cum_daily_returns.index[10],, 1.4)`, standing for the point on the cartesian plan where we wish to display the text;\n",
    " - `fontsize` equal to 10;\n",
    " - `weight` argument equal to `'bold'` to highlight the text;\n",
    " - `arrowprops` argument equal to `{'arrowstyle':'->', 'color': 'black', 'linestyle':'--'}`"
   ]
  },
  {
   "cell_type": "code",
   "execution_count": null,
   "metadata": {
    "hideCode": false,
    "hidePrompt": false
   },
   "outputs": [],
   "source": [
    "\n",
    "with plt.style.context('ggplot'):\n",
    "    fig, ax = plt.subplots(figsize=[10,8])\n",
    "    ax.plot(cum_daily_returns.index, cum_daily_returns['AAPL'], label='AAPL') \n",
    "    ax.plot(cum_daily_returns.index, cum_daily_returns['FB'], label='FB') \n",
    "    ax.plot(cum_daily_returns.index, cum_daily_returns['GOOGL'], label='GOOGL') \n",
    "    ax.set_xlabel('Time')\n",
    "    ax.set_ylabel('Cum Returns')\n",
    "    ax.set_xticks(ticks_to_use)\n",
    "    ax.set_xticklabels(labels, rotation=30)\n",
    "    ax.set_title('Cumulative Returns', fontdict={'size':15})\n",
    "    ax.legend(loc='upper left')\n",
    "    \n",
    "    # ====================================\n",
    "    # Do not change the code before this \n",
    "    \n",
    "    # TO BE FILLED BY STUDENT\n",
    "    ax.annotate(\n",
    "        \"European Lockdowns caused by SARS-COVID-19\",\n",
    "        xy = [cum_daily_returns.index[40], 1.1],\n",
    "        xytext=(cum_daily_returns.index[10], 1.4), \n",
    "        fontsize=10,\n",
    "        weight='bold',\n",
    "        arrowprops={'arrowstyle':'->', 'color': 'black', 'linestyle':'--'}\n",
    "    )\n",
    "    # ====================================\n",
    "    \n",
    "    plt.show()"
   ]
  },
  {
   "cell_type": "markdown",
   "metadata": {
    "hideCode": false,
    "hidePrompt": false
   },
   "source": [
    "**Step 2**:  add an extra annotation for the Q2-2020 Apple Results defined as `\"Q2-2020 results\"`. In particular:\n",
    " - `xy` equal to `[cum_daily_returns.index[145], 1.27]`, standing for the point on the cartesian plan where the event occurred.\n",
    " - `xytext` equal to `([cum_daily_returns.index[100],, 1.6)`, standing for the point on the cartesian plan where we wish to display the text;\n",
    " - `fontsize` equal to 12;\n",
    " - `weight` argument equal to `'bold'` to highlight the text;\n",
    " - `arrowprops` argument equal to `{'arrowstyle':'->', 'color': 'black', 'linestyle':'--'}`"
   ]
  },
  {
   "cell_type": "code",
   "execution_count": null,
   "metadata": {
    "hideCode": false,
    "hidePrompt": false
   },
   "outputs": [],
   "source": [
    "\n",
    "with plt.style.context('ggplot'):\n",
    "    fig, ax = plt.subplots(figsize=[10,8])\n",
    "    ax.plot(cum_daily_returns.index, cum_daily_returns['AAPL'], label='AAPL') \n",
    "    ax.plot(cum_daily_returns.index, cum_daily_returns['FB'], label='FB') \n",
    "    ax.plot(cum_daily_returns.index, cum_daily_returns['GOOGL'], label='GOOGL') \n",
    "    ax.set_xlabel('Time')\n",
    "    ax.set_ylabel('Cum Returns')\n",
    "    ax.set_xticks(ticks_to_use)\n",
    "    ax.set_xticklabels(labels, rotation=30)\n",
    "    ax.set_title('Cumulative Returns', fontdict={'size':15})\n",
    "    ax.legend(loc='upper left')\n",
    "    \n",
    "    ax.annotate(\n",
    "        \"European Lockdowns caused by SARS-COVID-19\",\n",
    "        xy = [cum_daily_returns.index[40], 1.1],\n",
    "        xytext=(cum_daily_returns.index[10], 1.4), \n",
    "        fontsize=10,\n",
    "        weight='bold',\n",
    "        arrowprops={'arrowstyle':'->', 'color': 'black', 'linestyle':'--'}\n",
    "    )\n",
    "    \n",
    "    # ====================================\n",
    "    # Do not change the code before this \n",
    "    \n",
    "    # TO BE FILLED BY STUDENT\n",
    "    ax.annotate(\n",
    "        \"Q2-2020 results\",\n",
    "        xy = [cum_daily_returns.index[145], 1.27],\n",
    "        xytext=(cum_daily_returns.index[100], 1.6), \n",
    "        fontsize=12,\n",
    "        weight='bold',\n",
    "        arrowprops={'arrowstyle':'->', 'color': 'black', 'linestyle':'--'}\n",
    "    )\n",
    "    \n",
    "    # ====================================\n",
    "    \n",
    "    plt.show()"
   ]
  },
  {
   "cell_type": "markdown",
   "metadata": {
    "hideCode": false,
    "hidePrompt": false
   },
   "source": [
    "# END "
   ]
  }
 ],
 "metadata": {
  "hide_code_all_hidden": false,
  "kernelspec": {
   "display_name": "hands_on_data_analysis",
   "language": "python",
   "name": "hands_on_data_analysis"
  },
  "language_info": {
   "codemirror_mode": {
    "name": "ipython",
    "version": 3
   },
   "file_extension": ".py",
   "mimetype": "text/x-python",
   "name": "python",
   "nbconvert_exporter": "python",
   "pygments_lexer": "ipython3",
   "version": "3.7.3"
  }
 },
 "nbformat": 4,
 "nbformat_minor": 4
}
